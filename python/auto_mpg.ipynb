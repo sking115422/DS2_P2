{
 "cells": [
  {
   "cell_type": "markdown",
   "metadata": {},
   "source": [
    "## Importing Libraries"
   ]
  },
  {
   "cell_type": "code",
   "execution_count": null,
   "metadata": {},
   "outputs": [],
   "source": [
    "import numpy as np\n",
    "import pandas as pd\n",
    "import seaborn as sns\n",
    "import matplotlib.pyplot as plt\n",
    "\n",
    "from Model_Parent import *\n",
    "from Model_Parent_2 import *"
   ]
  },
  {
   "cell_type": "markdown",
   "metadata": {},
   "source": [
    "## Importing Data"
   ]
  },
  {
   "cell_type": "code",
   "execution_count": null,
   "metadata": {},
   "outputs": [],
   "source": [
    "df = pd.read_csv(\"../cleaned_data/auto_mpg_fixed_cleaned.csv\", index_col=0)"
   ]
  },
  {
   "cell_type": "code",
   "execution_count": null,
   "metadata": {},
   "outputs": [],
   "source": [
    "df.drop('origin', axis=1, inplace=True)"
   ]
  },
  {
   "cell_type": "code",
   "execution_count": null,
   "metadata": {},
   "outputs": [],
   "source": [
    "df"
   ]
  },
  {
   "cell_type": "markdown",
   "metadata": {},
   "source": [
    "## Checking Data"
   ]
  },
  {
   "cell_type": "code",
   "execution_count": null,
   "metadata": {},
   "outputs": [],
   "source": [
    "# Check to make sure that no columns have perfect colinearity"
   ]
  },
  {
   "cell_type": "code",
   "execution_count": null,
   "metadata": {},
   "outputs": [],
   "source": [
    "corr_mat = df.corr(method='pearson')\n",
    "sns.heatmap(corr_mat, cmap='vlag')"
   ]
  },
  {
   "cell_type": "markdown",
   "metadata": {},
   "source": [
    "## Breaking Data in X and y"
   ]
  },
  {
   "cell_type": "code",
   "execution_count": null,
   "metadata": {},
   "outputs": [],
   "source": [
    "X = df.iloc[:,:-1]"
   ]
  },
  {
   "cell_type": "code",
   "execution_count": null,
   "metadata": {},
   "outputs": [],
   "source": [
    "y = df.iloc[:,-1]"
   ]
  },
  {
   "cell_type": "markdown",
   "metadata": {},
   "source": [
    "# Generating Models"
   ]
  },
  {
   "cell_type": "code",
   "execution_count": null,
   "metadata": {},
   "outputs": [],
   "source": [
    "# Imports to build layered neural nets\n",
    "from keras.models import Sequential\n",
    "from keras.layers import Dense"
   ]
  },
  {
   "cell_type": "code",
   "execution_count": null,
   "metadata": {},
   "outputs": [],
   "source": [
    "# Defining number of epochs\n",
    "epo = 10\n",
    "\n",
    "# Defining batch size\n",
    "bs = 1000"
   ]
  },
  {
   "cell_type": "markdown",
   "metadata": {},
   "source": [
    "## 2 Layer Neural Networks"
   ]
  },
  {
   "cell_type": "markdown",
   "metadata": {},
   "source": [
    "### Sigmoid Activation Function"
   ]
  },
  {
   "cell_type": "code",
   "execution_count": null,
   "metadata": {},
   "outputs": [],
   "source": [
    "# nur_list is a list of number of neurons for each layer.\n",
    "# In this case the first 2 values in the list are neurons of first 2 layers.\n",
    "# The last value corresponds to the output layer\n",
    "nur_list = [10, 5, 1]\n",
    "\n",
    "# a_func is the activation function of choice\n",
    "a_func = 'sigmoid'\n",
    "\n",
    "# opt is the optimazation function of choice\n",
    "opt = 'adam'\n",
    "\n",
    "# loss_ is the loss funciton of choice\n",
    "loss_ = 'mean_squared_error'"
   ]
  },
  {
   "cell_type": "code",
   "execution_count": null,
   "metadata": {},
   "outputs": [],
   "source": [
    "nnForwardSelection(X, y, epo, bs, nur_list, a_func, opt, loss_)"
   ]
  },
  {
   "cell_type": "code",
   "execution_count": null,
   "metadata": {},
   "outputs": [],
   "source": [
    "nnBackwardSelection(X, y, epo, bs, nur_list, a_func, opt, loss_)"
   ]
  },
  {
   "cell_type": "code",
   "execution_count": null,
   "metadata": {},
   "outputs": [],
   "source": [
    "nnStepwiseSelection(X, y, epo, bs, nur_list, a_func, opt, loss_)"
   ]
  },
  {
   "cell_type": "markdown",
   "metadata": {},
   "source": [
    "### Tanh Activation Function"
   ]
  },
  {
   "cell_type": "code",
   "execution_count": null,
   "metadata": {},
   "outputs": [],
   "source": [
    "# nur_list is a list of number of neurons for each layer.\n",
    "# In this case the first 2 values in the list are neurons of first 2 layers.\n",
    "# The last value corresponds to the output layer\n",
    "nur_list = [10, 5, 1]\n",
    "\n",
    "# a_func is the activation function of choice\n",
    "a_func = 'tanh'\n",
    "\n",
    "# opt is the optimazation function of choice\n",
    "opt = 'adam'\n",
    "\n",
    "# loss_ is the loss funciton of choice\n",
    "loss_ = 'mean_squared_error'"
   ]
  },
  {
   "cell_type": "code",
   "execution_count": null,
   "metadata": {},
   "outputs": [],
   "source": [
    "nnForwardSelection(X, y, epo, bs, nur_list, a_func, opt, loss_)"
   ]
  },
  {
   "cell_type": "code",
   "execution_count": null,
   "metadata": {},
   "outputs": [],
   "source": [
    "nnBackwardSelection(X, y, epo, bs, nur_list, a_func, opt, loss_)"
   ]
  },
  {
   "cell_type": "code",
   "execution_count": null,
   "metadata": {},
   "outputs": [],
   "source": [
    "nnStepwiseSelection(X, y, epo, bs, nur_list, a_func, opt, loss_)"
   ]
  },
  {
   "cell_type": "markdown",
   "metadata": {},
   "source": [
    "### ReLU Activation Function"
   ]
  },
  {
   "cell_type": "code",
   "execution_count": null,
   "metadata": {},
   "outputs": [],
   "source": [
    "# nur_list is a list of number of neurons for each layer.\n",
    "# In this case the first 2 values in the list are neurons of first 2 layers.\n",
    "# The last value corresponds to the output layer\n",
    "nur_list = [10, 5, 1]\n",
    "\n",
    "# a_func is the activation function of choice\n",
    "a_func = 'relu'\n",
    "\n",
    "# opt is the optimazation function of choice\n",
    "opt = 'adam'\n",
    "\n",
    "# loss_ is the loss funciton of choice\n",
    "loss_ = 'mean_squared_error'"
   ]
  },
  {
   "cell_type": "code",
   "execution_count": null,
   "metadata": {},
   "outputs": [],
   "source": [
    "nnForwardSelection(X, y, epo, bs, nur_list, a_func, opt, loss_)"
   ]
  },
  {
   "cell_type": "code",
   "execution_count": null,
   "metadata": {},
   "outputs": [],
   "source": [
    "nnBackwardSelection(X, y, epo, bs, nur_list, a_func, opt, loss_)"
   ]
  },
  {
   "cell_type": "code",
   "execution_count": null,
   "metadata": {},
   "outputs": [],
   "source": [
    "nnStepwiseSelection(X, y, epo, bs, nur_list, a_func, opt, loss_)"
   ]
  },
  {
   "cell_type": "markdown",
   "metadata": {},
   "source": [
    "## 3 Layer Neural Networks"
   ]
  },
  {
   "cell_type": "markdown",
   "metadata": {},
   "source": [
    "### Sigmoid Activation Function"
   ]
  },
  {
   "cell_type": "code",
   "execution_count": null,
   "metadata": {},
   "outputs": [],
   "source": [
    "# nur_list is a list of number of neurons for each layer.\n",
    "# In this case the first 3 values in the list are neurons of first 3 layers.\n",
    "# The last value corresponds to the output layer\n",
    "nur_list = [25, 10, 5, 1]\n",
    "\n",
    "# a_func is the activation function of choice\n",
    "a_func = 'sigmoid'\n",
    "\n",
    "# opt is the optimazation function of choice\n",
    "opt = 'adam'\n",
    "\n",
    "# loss_ is the loss funciton of choice\n",
    "loss_ = 'mean_squared_error'"
   ]
  },
  {
   "cell_type": "code",
   "execution_count": null,
   "metadata": {},
   "outputs": [],
   "source": [
    "nnForwardSelection(X, y, epo, bs, nur_list, a_func, opt, loss_)"
   ]
  },
  {
   "cell_type": "code",
   "execution_count": null,
   "metadata": {},
   "outputs": [],
   "source": [
    "nnBackwardSelection(X, y, epo, bs, nur_list, a_func, opt, loss_)"
   ]
  },
  {
   "cell_type": "code",
   "execution_count": null,
   "metadata": {},
   "outputs": [],
   "source": [
    "nnStepwiseSelection(X, y, epo, bs, nur_list, a_func, opt, loss_)"
   ]
  },
  {
   "cell_type": "markdown",
   "metadata": {},
   "source": [
    "### Tanh Activation Function"
   ]
  },
  {
   "cell_type": "code",
   "execution_count": null,
   "metadata": {},
   "outputs": [],
   "source": [
    "# nur_list is a list of number of neurons for each layer.\n",
    "# In this case the first 3 values in the list are neurons of first 3 layers.\n",
    "# The last value corresponds to the output layer\n",
    "nur_list = [25, 10, 5, 1]\n",
    "\n",
    "# a_func is the activation function of choice\n",
    "a_func = 'tanh'\n",
    "\n",
    "# opt is the optimazation function of choice\n",
    "opt = 'adam'\n",
    "\n",
    "# loss_ is the loss funciton of choice\n",
    "loss_ = 'mean_squared_error'"
   ]
  },
  {
   "cell_type": "code",
   "execution_count": null,
   "metadata": {},
   "outputs": [],
   "source": [
    "nnForwardSelection(X, y, epo, bs, nur_list, a_func, opt, loss_)"
   ]
  },
  {
   "cell_type": "code",
   "execution_count": null,
   "metadata": {},
   "outputs": [],
   "source": [
    "nnBackwardSelection(X, y, epo, bs, nur_list, a_func, opt, loss_)"
   ]
  },
  {
   "cell_type": "code",
   "execution_count": null,
   "metadata": {},
   "outputs": [],
   "source": [
    "nnStepwiseSelection(X, y, epo, bs, nur_list, a_func, opt, loss_)"
   ]
  },
  {
   "cell_type": "markdown",
   "metadata": {},
   "source": [
    "### ReLU Activation Function"
   ]
  },
  {
   "cell_type": "code",
   "execution_count": null,
   "metadata": {},
   "outputs": [],
   "source": [
    "# nur_list is a list of number of neurons for each layer.\n",
    "# In this case the first 3 values in the list are neurons of first 3 layers.\n",
    "# The last value corresponds to the output layer\n",
    "nur_list = [25, 10, 5, 1]\n",
    "\n",
    "# a_func is the activation function of choice\n",
    "a_func = 'relu'\n",
    "\n",
    "# opt is the optimazation function of choice\n",
    "opt = 'adam'\n",
    "\n",
    "# loss_ is the loss funciton of choice\n",
    "loss_ = 'mean_squared_error'"
   ]
  },
  {
   "cell_type": "code",
   "execution_count": null,
   "metadata": {},
   "outputs": [],
   "source": [
    "nnForwardSelection(X, y, epo, bs, nur_list, a_func, opt, loss_)"
   ]
  },
  {
   "cell_type": "code",
   "execution_count": null,
   "metadata": {},
   "outputs": [],
   "source": [
    "nnBackwardSelection(X, y, epo, bs, nur_list, a_func, opt, loss_)"
   ]
  },
  {
   "cell_type": "code",
   "execution_count": null,
   "metadata": {},
   "outputs": [],
   "source": [
    "nnStepwiseSelection(X, y, epo, bs, nur_list, a_func, opt, loss_)"
   ]
  },
  {
   "cell_type": "markdown",
   "metadata": {},
   "source": [
    "## 5 Layer Neural Networks"
   ]
  },
  {
   "cell_type": "markdown",
   "metadata": {},
   "source": [
    "### Sigmoid Activation Function"
   ]
  },
  {
   "cell_type": "code",
   "execution_count": null,
   "metadata": {},
   "outputs": [],
   "source": [
    "# nur_list is a list of number of neurons for each layer.\n",
    "# In this case the first 5 values in the list are neurons of first 5 layers.\n",
    "# The last value corresponds to the output layer\n",
    "nur_list = [500, 100, 25, 10, 5, 1]\n",
    "\n",
    "# a_func is the activation function of choice\n",
    "a_func = 'sigmoid'\n",
    "\n",
    "# opt is the optimazation function of choice\n",
    "opt = 'adam'\n",
    "\n",
    "# loss_ is the loss funciton of choice\n",
    "loss_ = 'mean_squared_error'"
   ]
  },
  {
   "cell_type": "code",
   "execution_count": null,
   "metadata": {},
   "outputs": [],
   "source": [
    "nnForwardSelection(X, y, epo, bs, nur_list, a_func, opt, loss_)"
   ]
  },
  {
   "cell_type": "code",
   "execution_count": null,
   "metadata": {},
   "outputs": [],
   "source": [
    "nnBackwardSelection(X, y, epo, bs, nur_list, a_func, opt, loss_)"
   ]
  },
  {
   "cell_type": "code",
   "execution_count": null,
   "metadata": {},
   "outputs": [],
   "source": [
    "nnStepwiseSelection(X, y, epo, bs, nur_list, a_func, opt, loss_)"
   ]
  },
  {
   "cell_type": "markdown",
   "metadata": {},
   "source": [
    "### Tanh Activation Function"
   ]
  },
  {
   "cell_type": "code",
   "execution_count": null,
   "metadata": {},
   "outputs": [],
   "source": [
    "# nur_list is a list of number of neurons for each layer.\n",
    "# In this case the first 5 values in the list are neurons of first 5 layers.\n",
    "# The last value corresponds to the output layer\n",
    "nur_list = [500, 100, 25, 10, 5, 1]\n",
    "\n",
    "# a_func is the activation function of choice\n",
    "a_func = 'tanh'\n",
    "\n",
    "# opt is the optimazation function of choice\n",
    "opt = 'adam'\n",
    "\n",
    "# loss_ is the loss funciton of choice\n",
    "loss_ = 'mean_squared_error'"
   ]
  },
  {
   "cell_type": "code",
   "execution_count": null,
   "metadata": {},
   "outputs": [],
   "source": [
    "nnForwardSelection(X, y, epo, bs, nur_list, a_func, opt, loss_)"
   ]
  },
  {
   "cell_type": "code",
   "execution_count": null,
   "metadata": {},
   "outputs": [],
   "source": [
    "nnBackwardSelection(X, y, epo, bs, nur_list, a_func, opt, loss_)"
   ]
  },
  {
   "cell_type": "code",
   "execution_count": null,
   "metadata": {},
   "outputs": [],
   "source": [
    "nnStepwiseSelection(X, y, epo, bs, nur_list, a_func, opt, loss_)"
   ]
  },
  {
   "cell_type": "markdown",
   "metadata": {},
   "source": [
    "### ReLU Activation Function"
   ]
  },
  {
   "cell_type": "code",
   "execution_count": null,
   "metadata": {},
   "outputs": [],
   "source": [
    "# nur_list is a list of number of neurons for each layer.\n",
    "# In this case the first 5 values in the list are neurons of first 5 layers.\n",
    "# The last value corresponds to the output layer\n",
    "nur_list = [500, 100, 25, 10, 5, 1]\n",
    "\n",
    "# a_func is the activation function of choice\n",
    "a_func = 'relu'\n",
    "\n",
    "# opt is the optimazation function of choice\n",
    "opt = 'adam'\n",
    "\n",
    "# loss_ is the loss funciton of choice\n",
    "loss_ = 'mean_squared_error'"
   ]
  },
  {
   "cell_type": "code",
   "execution_count": null,
   "metadata": {},
   "outputs": [],
   "source": [
    "nnForwardSelection(X, y, epo, bs, nur_list, a_func, opt, loss_)"
   ]
  },
  {
   "cell_type": "code",
   "execution_count": null,
   "metadata": {},
   "outputs": [],
   "source": [
    "nnBackwardSelection(X, y, epo, bs, nur_list, a_func, opt, loss_)"
   ]
  },
  {
   "cell_type": "code",
   "execution_count": null,
   "metadata": {},
   "outputs": [],
   "source": [
    "nnStepwiseSelection(X, y, epo, bs, nur_list, a_func, opt, loss_)"
   ]
  }
 ],
 "metadata": {
  "interpreter": {
   "hash": "8338625309694086bca43e95af1b4ba2228479321112d6e6d2d9c087c2893b51"
  },
  "kernelspec": {
   "display_name": "venv",
   "language": "python",
   "name": "venv"
  },
  "language_info": {
   "codemirror_mode": {
    "name": "ipython",
    "version": 3
   },
   "file_extension": ".py",
   "mimetype": "text/x-python",
   "name": "python",
   "nbconvert_exporter": "python",
   "pygments_lexer": "ipython3",
   "version": "3.8.11"
  }
 },
 "nbformat": 4,
 "nbformat_minor": 2
}
