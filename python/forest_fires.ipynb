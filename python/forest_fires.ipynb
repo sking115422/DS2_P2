{
 "cells": [
  {
   "cell_type": "markdown",
   "metadata": {},
   "source": [
    "## Importing Libraries"
   ]
  },
  {
   "cell_type": "code",
   "execution_count": null,
   "metadata": {},
   "outputs": [],
   "source": [
    "import math\n",
    "import numpy as np\n",
    "import pandas as pd\n",
    "import seaborn as sns\n",
    "import matplotlib.pyplot as plt\n",
    "from sklearn.preprocessing import MinMaxScaler\n",
    "from sklearn.model_selection import train_test_split\n",
    "import autokeras as ak\n",
    "\n",
    "from Model_Parent import *\n",
    "from Model_Parent_2 import *"
   ]
  },
  {
   "cell_type": "markdown",
   "metadata": {},
   "source": [
    "## Importing Data"
   ]
  },
  {
   "cell_type": "code",
   "execution_count": null,
   "metadata": {},
   "outputs": [],
   "source": [
    "df = pd.read_csv(\"../cleaned_data/forestfires_cleaned.csv\", index_col=0)\n",
    "# Droping area column because we made a new column called log_area by using a log transform\n",
    "df.drop('area', axis=1, inplace=True)\n",
    "\n",
    "df"
   ]
  },
  {
   "cell_type": "markdown",
   "metadata": {},
   "source": [
    "## Checking Data"
   ]
  },
  {
   "cell_type": "code",
   "execution_count": null,
   "metadata": {},
   "outputs": [],
   "source": [
    "# Check to make sure that no columns have perfect colinearity\n",
    "corr_mat = df.corr(method='pearson')\n",
    "sns.heatmap(corr_mat, cmap='vlag')"
   ]
  },
  {
   "cell_type": "markdown",
   "metadata": {},
   "source": [
    "## Scaling Data"
   ]
  },
  {
   "cell_type": "code",
   "execution_count": null,
   "metadata": {},
   "outputs": [],
   "source": [
    "# Storing old columns names\n",
    "df_col_names = list(df.columns)\n",
    "\n",
    "# Scaling data by min and max in the range of 0 to 1\n",
    "scaler = MinMaxScaler(feature_range = [0, 1])\n",
    "tmp = scaler.fit_transform(df)\n",
    "\n",
    "# Converting scaled values back into dataframe\n",
    "df = pd.DataFrame(tmp, columns=df_col_names)\n",
    "\n",
    "df"
   ]
  },
  {
   "cell_type": "markdown",
   "metadata": {},
   "source": [
    "## Breaking Data in X and y"
   ]
  },
  {
   "cell_type": "code",
   "execution_count": null,
   "metadata": {},
   "outputs": [],
   "source": [
    "X = df.iloc[:,:-1]"
   ]
  },
  {
   "cell_type": "code",
   "execution_count": null,
   "metadata": {},
   "outputs": [],
   "source": [
    "y = df.iloc[:,-1]"
   ]
  },
  {
   "cell_type": "markdown",
   "metadata": {},
   "source": [
    "# Generating Models"
   ]
  },
  {
   "cell_type": "code",
   "execution_count": null,
   "metadata": {},
   "outputs": [],
   "source": [
    "# Using AutoKeras output to help us tune our parameters\n",
    "# Can adjust hyperpameters, activation functions, and layer stucture based on our findings\n",
    "\n",
    "auto_tune = ak.StructuredDataRegressor(max_trials=10, \n",
    "                                       overwrite=True,\n",
    "                                       loss='mean_squared_error',\n",
    "                                       output_dim=1,\n",
    "                                       project_name='auto_keras'\n",
    "                                       )\n",
    "\n",
    "X_train, X_test, y_train, y_test = train_test_split(X, y)\n",
    "\n",
    "auto_tune.fit(X_train, y_train, validation_split = 0.15, epochs = 10)\n",
    "y_hat = auto_tune.predict(X_test)\n",
    "print(auto_tune.evaluate(X_test, y_test))\n",
    "\n",
    "auto_tune_mod = auto_tune.export_model()\n",
    "print(auto_tune_mod.summary())\n"
   ]
  },
  {
   "cell_type": "code",
   "execution_count": null,
   "metadata": {},
   "outputs": [],
   "source": [
    "# Defining number of folds in cross validation (kfolds method)\n",
    "cv_folds = 5\n",
    "\n",
    "# Defining number of epochs\n",
    "epo = 50\n",
    "\n",
    "# Defining batch size\n",
    "bs = 32\n",
    "\n",
    "# opt is the optimazation function of choice\n",
    "opt = 'adam'\n",
    "\n",
    "# loss_ is the loss funciton of choice\n",
    "loss_ = 'mean_squared_error'"
   ]
  },
  {
   "cell_type": "markdown",
   "metadata": {},
   "source": [
    "## 2 Layer Neural Networks"
   ]
  },
  {
   "cell_type": "markdown",
   "metadata": {},
   "source": [
    "### Sigmoid Activation Function"
   ]
  },
  {
   "cell_type": "code",
   "execution_count": null,
   "metadata": {},
   "outputs": [],
   "source": [
    "# nur_list is a list of number of neurons for each layer.\n",
    "# In this case the first 2 values in the list are neurons of first 2 layers.\n",
    "# The first value corresponds to the input layer\n",
    "# The last value corresponds to the output layer\n",
    "nur_list = [X.shape[1], 1]\n",
    "\n",
    "# a_func is the activation function of choice\n",
    "a_func = 'sigmoid'"
   ]
  },
  {
   "cell_type": "code",
   "execution_count": null,
   "metadata": {},
   "outputs": [],
   "source": [
    "nnCrossValidation(X, y, cv_folds, epo, bs, nur_list, a_func, opt, loss_)"
   ]
  },
  {
   "cell_type": "code",
   "execution_count": null,
   "metadata": {},
   "outputs": [],
   "source": [
    "nnForwardSelection(X, y, cv_folds, epo, bs, nur_list, a_func, opt, loss_)"
   ]
  },
  {
   "cell_type": "markdown",
   "metadata": {},
   "source": [
    "### Tanh Activation Function"
   ]
  },
  {
   "cell_type": "code",
   "execution_count": null,
   "metadata": {},
   "outputs": [],
   "source": [
    "# nur_list is a list of number of neurons for each layer.\n",
    "# In this case the first 2 values in the list are neurons of first 2 layers.\n",
    "# The first value corresponds to the input layer\n",
    "# The last value corresponds to the output layer\n",
    "nur_list = [X.shape[1], 1]\n",
    "\n",
    "# a_func is the activation function of choice\n",
    "a_func = 'tanh'"
   ]
  },
  {
   "cell_type": "code",
   "execution_count": null,
   "metadata": {},
   "outputs": [],
   "source": [
    "nnCrossValidation(X, y, cv_folds, epo, bs, nur_list, a_func, opt, loss_)"
   ]
  },
  {
   "cell_type": "code",
   "execution_count": null,
   "metadata": {},
   "outputs": [],
   "source": [
    "nnForwardSelection(X, y, cv_folds, epo, bs, nur_list, a_func, opt, loss_)"
   ]
  },
  {
   "cell_type": "markdown",
   "metadata": {},
   "source": [
    "### ReLU Activation Function"
   ]
  },
  {
   "cell_type": "code",
   "execution_count": null,
   "metadata": {},
   "outputs": [],
   "source": [
    "# nur_list is a list of number of neurons for each layer.\n",
    "# In this case the first 2 values in the list are neurons of first 2 layers.\n",
    "# The first value corresponds to the input layer\n",
    "# The last value corresponds to the output layer\n",
    "nur_list = [X.shape[1], 1]\n",
    "\n",
    "# a_func is the activation function of choice\n",
    "a_func = 'relu'"
   ]
  },
  {
   "cell_type": "code",
   "execution_count": null,
   "metadata": {},
   "outputs": [],
   "source": [
    "nnCrossValidation(X, y, cv_folds, epo, bs, nur_list, a_func, opt, loss_)"
   ]
  },
  {
   "cell_type": "code",
   "execution_count": null,
   "metadata": {},
   "outputs": [],
   "source": [
    "nnForwardSelection(X, y, cv_folds, epo, bs, nur_list, a_func, opt, loss_)"
   ]
  },
  {
   "cell_type": "markdown",
   "metadata": {},
   "source": [
    "## 3 Layer Neural Networks"
   ]
  },
  {
   "cell_type": "markdown",
   "metadata": {},
   "source": [
    "### Sigmoid Activation Function"
   ]
  },
  {
   "cell_type": "code",
   "execution_count": null,
   "metadata": {},
   "outputs": [],
   "source": [
    "# nur_list is a list of number of neurons for each layer.\n",
    "# In this case, the first 3 values in the list are neurons of first 3 layers.\n",
    "# The first value corresponds to the input layer\n",
    "# The middle value is the hidden layers\n",
    "# The last value corresponds to the output layer\n",
    "nur_list = [X.shape[1], 2 * X.shape[1] + 1, 1]\n",
    "\n",
    "# a_func is the activation function of choice\n",
    "a_func = 'sigmoid'"
   ]
  },
  {
   "cell_type": "code",
   "execution_count": null,
   "metadata": {},
   "outputs": [],
   "source": [
    "nnCrossValidation(X, y, cv_folds, epo, bs, nur_list, a_func, opt, loss_)"
   ]
  },
  {
   "cell_type": "code",
   "execution_count": null,
   "metadata": {},
   "outputs": [],
   "source": [
    "nnForwardSelection(X, y, cv_folds, epo, bs, nur_list, a_func, opt, loss_)"
   ]
  },
  {
   "cell_type": "markdown",
   "metadata": {},
   "source": [
    "### Tanh Activation Function"
   ]
  },
  {
   "cell_type": "code",
   "execution_count": null,
   "metadata": {},
   "outputs": [],
   "source": [
    "# nur_list is a list of number of neurons for each layer.\n",
    "# In this case, the first 3 values in the list are neurons of first 3 layers.\n",
    "# The first value corresponds to the input layer\n",
    "# The middle value is the hidden layers\n",
    "# The last value corresponds to the output layer\n",
    "nur_list = [X.shape[1], 2 * X.shape[1] + 1, 1]\n",
    "\n",
    "# a_func is the activation function of choice\n",
    "a_func = 'tanh'"
   ]
  },
  {
   "cell_type": "code",
   "execution_count": null,
   "metadata": {},
   "outputs": [],
   "source": [
    "nnCrossValidation(X, y, cv_folds, epo, bs, nur_list, a_func, opt, loss_)"
   ]
  },
  {
   "cell_type": "code",
   "execution_count": null,
   "metadata": {},
   "outputs": [],
   "source": [
    "nnForwardSelection(X, y, cv_folds, epo, bs, nur_list, a_func, opt, loss_)"
   ]
  },
  {
   "cell_type": "markdown",
   "metadata": {},
   "source": [
    "### ReLU Activation Function"
   ]
  },
  {
   "cell_type": "code",
   "execution_count": null,
   "metadata": {},
   "outputs": [],
   "source": [
    "# nur_list is a list of number of neurons for each layer.\n",
    "# In this case, the first 3 values in the list are neurons of first 3 layers.\n",
    "# The first value corresponds to the input layer\n",
    "# The middle value is the hidden layers\n",
    "# The last value corresponds to the output layer\n",
    "nur_list = [X.shape[1], 2 * X.shape[1] + 1, 1]\n",
    "\n",
    "# a_func is the activation function of choice\n",
    "a_func = 'relu'"
   ]
  },
  {
   "cell_type": "code",
   "execution_count": null,
   "metadata": {},
   "outputs": [],
   "source": [
    "nnCrossValidation(X, y, cv_folds, epo, bs, nur_list, a_func, opt, loss_)"
   ]
  },
  {
   "cell_type": "code",
   "execution_count": null,
   "metadata": {},
   "outputs": [],
   "source": [
    "nnForwardSelection(X, y, cv_folds, epo, bs, nur_list, a_func, opt, loss_)"
   ]
  },
  {
   "cell_type": "markdown",
   "metadata": {},
   "source": [
    "## 4 Layer Neural Networks"
   ]
  },
  {
   "cell_type": "markdown",
   "metadata": {},
   "source": [
    "### Sigmoid Activation Function"
   ]
  },
  {
   "cell_type": "code",
   "execution_count": null,
   "metadata": {},
   "outputs": [],
   "source": [
    "# nur_list is a list of number of neurons for each layer.\n",
    "# In this case, the first 4 values in the list are neurons of first 4 layers.\n",
    "# The first value corresponds to the input layer\n",
    "# The middle values are hidden layers\n",
    "# The last value corresponds to the output layer\n",
    "nur_list = [X.shape[1], 2 * X.shape[1] + 1, math.ceil((2 * X.shape[1] + 1)/2), 1]\n",
    "\n",
    "# a_func is the activation function of choice\n",
    "a_func = 'sigmoid'"
   ]
  },
  {
   "cell_type": "code",
   "execution_count": null,
   "metadata": {},
   "outputs": [],
   "source": [
    "nnCrossValidation(X, y, cv_folds, epo, bs, nur_list, a_func, opt, loss_)"
   ]
  },
  {
   "cell_type": "code",
   "execution_count": null,
   "metadata": {},
   "outputs": [],
   "source": [
    "nnForwardSelection(X, y, cv_folds, epo, bs, nur_list, a_func, opt, loss_)"
   ]
  },
  {
   "cell_type": "markdown",
   "metadata": {},
   "source": [
    "### Tanh Activation Function"
   ]
  },
  {
   "cell_type": "code",
   "execution_count": null,
   "metadata": {},
   "outputs": [],
   "source": [
    "# nur_list is a list of number of neurons for each layer.\n",
    "# In this case, the first 4 values in the list are neurons of first 4 layers.\n",
    "# The first value corresponds to the input layer\n",
    "# The middle values are hidden layers\n",
    "# The last value corresponds to the output layer\n",
    "nur_list = [X.shape[1], 2 * X.shape[1] + 1, math.ceil((2 * X.shape[1] + 1)/2), 1]\n",
    "\n",
    "# a_func is the activation function of choice\n",
    "a_func = 'tanh'"
   ]
  },
  {
   "cell_type": "code",
   "execution_count": null,
   "metadata": {},
   "outputs": [],
   "source": [
    "nnCrossValidation(X, y, cv_folds, epo, bs, nur_list, a_func, opt, loss_)"
   ]
  },
  {
   "cell_type": "code",
   "execution_count": null,
   "metadata": {},
   "outputs": [],
   "source": [
    "nnForwardSelection(X, y, cv_folds, epo, bs, nur_list, a_func, opt, loss_)"
   ]
  },
  {
   "cell_type": "markdown",
   "metadata": {},
   "source": [
    "### ReLU Activation Function"
   ]
  },
  {
   "cell_type": "code",
   "execution_count": null,
   "metadata": {},
   "outputs": [],
   "source": [
    "# nur_list is a list of number of neurons for each layer.\n",
    "# In this case, the first 4 values in the list are neurons of first 4 layers.\n",
    "# The first value corresponds to the input layer\n",
    "# The middle values are hidden layers\n",
    "# The last value corresponds to the output layer\n",
    "nur_list = [X.shape[1], 2 * X.shape[1] + 1, math.ceil((2 * X.shape[1] + 1)/2), 1]\n",
    "\n",
    "# a_func is the activation function of choice\n",
    "a_func = 'relu'"
   ]
  },
  {
   "cell_type": "code",
   "execution_count": null,
   "metadata": {},
   "outputs": [],
   "source": [
    "nnCrossValidation(X, y, cv_folds, epo, bs, nur_list, a_func, opt, loss_)"
   ]
  },
  {
   "cell_type": "code",
   "execution_count": null,
   "metadata": {},
   "outputs": [],
   "source": [
    "nnForwardSelection(X, y, cv_folds, epo, bs, nur_list, a_func, opt, loss_)"
   ]
  }
 ],
 "metadata": {
  "interpreter": {
   "hash": "1f48fb14bcc06c66bdca3865fca6a442793c40cec3ae3e13031ed2a63e7b659e"
  },
  "kernelspec": {
   "display_name": "venv",
   "language": "python",
   "name": "python3"
  },
  "language_info": {
   "codemirror_mode": {
    "name": "ipython",
    "version": 3
   },
   "file_extension": ".py",
   "mimetype": "text/x-python",
   "name": "python",
   "nbconvert_exporter": "python",
   "pygments_lexer": "ipython3",
   "version": "3.8.11"
  }
 },
 "nbformat": 4,
 "nbformat_minor": 2
}
