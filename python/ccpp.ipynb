{
 "cells": [
  {
   "cell_type": "markdown",
   "metadata": {},
   "source": [
    "## Importing Libraries"
   ]
  },
  {
   "cell_type": "code",
   "execution_count": 16,
   "metadata": {},
   "outputs": [],
   "source": [
    "import numpy as np\n",
    "import pandas as pd\n",
    "import seaborn as sns\n",
    "import matplotlib.pyplot as plt\n",
    "from sklearn.preprocessing import MinMaxScaler\n",
    "\n",
    "from Model_Parent import *\n",
    "from Model_Parent_2 import *"
   ]
  },
  {
   "cell_type": "markdown",
   "metadata": {},
   "source": [
    "## Importing Data"
   ]
  },
  {
   "cell_type": "code",
   "execution_count": 17,
   "metadata": {},
   "outputs": [
    {
     "data": {
      "text/html": [
       "<div>\n",
       "<style scoped>\n",
       "    .dataframe tbody tr th:only-of-type {\n",
       "        vertical-align: middle;\n",
       "    }\n",
       "\n",
       "    .dataframe tbody tr th {\n",
       "        vertical-align: top;\n",
       "    }\n",
       "\n",
       "    .dataframe thead th {\n",
       "        text-align: right;\n",
       "    }\n",
       "</style>\n",
       "<table border=\"1\" class=\"dataframe\">\n",
       "  <thead>\n",
       "    <tr style=\"text-align: right;\">\n",
       "      <th></th>\n",
       "      <th>AT</th>\n",
       "      <th>V</th>\n",
       "      <th>AP</th>\n",
       "      <th>RH</th>\n",
       "      <th>PE</th>\n",
       "    </tr>\n",
       "  </thead>\n",
       "  <tbody>\n",
       "    <tr>\n",
       "      <th>0</th>\n",
       "      <td>14.96</td>\n",
       "      <td>41.76</td>\n",
       "      <td>1024.07</td>\n",
       "      <td>73.17</td>\n",
       "      <td>463.26</td>\n",
       "    </tr>\n",
       "    <tr>\n",
       "      <th>1</th>\n",
       "      <td>25.18</td>\n",
       "      <td>62.96</td>\n",
       "      <td>1020.04</td>\n",
       "      <td>59.08</td>\n",
       "      <td>444.37</td>\n",
       "    </tr>\n",
       "    <tr>\n",
       "      <th>2</th>\n",
       "      <td>5.11</td>\n",
       "      <td>39.40</td>\n",
       "      <td>1012.16</td>\n",
       "      <td>92.14</td>\n",
       "      <td>488.56</td>\n",
       "    </tr>\n",
       "    <tr>\n",
       "      <th>3</th>\n",
       "      <td>20.86</td>\n",
       "      <td>57.32</td>\n",
       "      <td>1010.24</td>\n",
       "      <td>76.64</td>\n",
       "      <td>446.48</td>\n",
       "    </tr>\n",
       "    <tr>\n",
       "      <th>4</th>\n",
       "      <td>10.82</td>\n",
       "      <td>37.50</td>\n",
       "      <td>1009.23</td>\n",
       "      <td>96.62</td>\n",
       "      <td>473.90</td>\n",
       "    </tr>\n",
       "    <tr>\n",
       "      <th>...</th>\n",
       "      <td>...</td>\n",
       "      <td>...</td>\n",
       "      <td>...</td>\n",
       "      <td>...</td>\n",
       "      <td>...</td>\n",
       "    </tr>\n",
       "    <tr>\n",
       "      <th>9563</th>\n",
       "      <td>16.65</td>\n",
       "      <td>49.69</td>\n",
       "      <td>1014.01</td>\n",
       "      <td>91.00</td>\n",
       "      <td>460.03</td>\n",
       "    </tr>\n",
       "    <tr>\n",
       "      <th>9564</th>\n",
       "      <td>13.19</td>\n",
       "      <td>39.18</td>\n",
       "      <td>1023.67</td>\n",
       "      <td>66.78</td>\n",
       "      <td>469.62</td>\n",
       "    </tr>\n",
       "    <tr>\n",
       "      <th>9565</th>\n",
       "      <td>31.32</td>\n",
       "      <td>74.33</td>\n",
       "      <td>1012.92</td>\n",
       "      <td>36.48</td>\n",
       "      <td>429.57</td>\n",
       "    </tr>\n",
       "    <tr>\n",
       "      <th>9566</th>\n",
       "      <td>24.48</td>\n",
       "      <td>69.45</td>\n",
       "      <td>1013.86</td>\n",
       "      <td>62.39</td>\n",
       "      <td>435.74</td>\n",
       "    </tr>\n",
       "    <tr>\n",
       "      <th>9567</th>\n",
       "      <td>21.60</td>\n",
       "      <td>62.52</td>\n",
       "      <td>1017.23</td>\n",
       "      <td>67.87</td>\n",
       "      <td>453.28</td>\n",
       "    </tr>\n",
       "  </tbody>\n",
       "</table>\n",
       "<p>9568 rows × 5 columns</p>\n",
       "</div>"
      ],
      "text/plain": [
       "         AT      V       AP     RH      PE\n",
       "0     14.96  41.76  1024.07  73.17  463.26\n",
       "1     25.18  62.96  1020.04  59.08  444.37\n",
       "2      5.11  39.40  1012.16  92.14  488.56\n",
       "3     20.86  57.32  1010.24  76.64  446.48\n",
       "4     10.82  37.50  1009.23  96.62  473.90\n",
       "...     ...    ...      ...    ...     ...\n",
       "9563  16.65  49.69  1014.01  91.00  460.03\n",
       "9564  13.19  39.18  1023.67  66.78  469.62\n",
       "9565  31.32  74.33  1012.92  36.48  429.57\n",
       "9566  24.48  69.45  1013.86  62.39  435.74\n",
       "9567  21.60  62.52  1017.23  67.87  453.28\n",
       "\n",
       "[9568 rows x 5 columns]"
      ]
     },
     "execution_count": 17,
     "metadata": {},
     "output_type": "execute_result"
    }
   ],
   "source": [
    "df = pd.read_csv(\"../cleaned_data/CCPP.csv\", index_col=0)\n",
    "\n",
    "\n",
    "df"
   ]
  },
  {
   "cell_type": "markdown",
   "metadata": {},
   "source": [
    "## Checking Data"
   ]
  },
  {
   "cell_type": "code",
   "execution_count": 18,
   "metadata": {},
   "outputs": [
    {
     "data": {
      "text/plain": [
       "<AxesSubplot:>"
      ]
     },
     "execution_count": 18,
     "metadata": {},
     "output_type": "execute_result"
    },
    {
     "data": {
      "image/png": "[encoded data removed]",
      "text/plain": [
       "<Figure size 432x288 with 2 Axes>"
      ]
     },
     "metadata": {
      "needs_background": "light"
     },
     "output_type": "display_data"
    }
   ],
   "source": [
    "# Check to make sure that no columns have perfect colinearity\n",
    "\n",
    "corr_mat = df.corr(method='pearson')\n",
    "sns.heatmap(corr_mat, cmap='vlag')"
   ]
  },
  {
   "cell_type": "markdown",
   "metadata": {},
   "source": [
    "## Scaling Data"
   ]
  },
  {
   "cell_type": "code",
   "execution_count": 19,
   "metadata": {},
   "outputs": [
    {
     "data": {
      "text/html": [
       "<div>\n",
       "<style scoped>\n",
       "    .dataframe tbody tr th:only-of-type {\n",
       "        vertical-align: middle;\n",
       "    }\n",
       "\n",
       "    .dataframe tbody tr th {\n",
       "        vertical-align: top;\n",
       "    }\n",
       "\n",
       "    .dataframe thead th {\n",
       "        text-align: right;\n",
       "    }\n",
       "</style>\n",
       "<table border=\"1\" class=\"dataframe\">\n",
       "  <thead>\n",
       "    <tr style=\"text-align: right;\">\n",
       "      <th></th>\n",
       "      <th>AT</th>\n",
       "      <th>V</th>\n",
       "      <th>AP</th>\n",
       "      <th>RH</th>\n",
       "      <th>PE</th>\n",
       "    </tr>\n",
       "  </thead>\n",
       "  <tbody>\n",
       "    <tr>\n",
       "      <th>0</th>\n",
       "      <td>0.372521</td>\n",
       "      <td>0.291815</td>\n",
       "      <td>0.771591</td>\n",
       "      <td>0.638204</td>\n",
       "      <td>0.569536</td>\n",
       "    </tr>\n",
       "    <tr>\n",
       "      <th>1</th>\n",
       "      <td>0.662040</td>\n",
       "      <td>0.669039</td>\n",
       "      <td>0.671863</td>\n",
       "      <td>0.449330</td>\n",
       "      <td>0.319338</td>\n",
       "    </tr>\n",
       "    <tr>\n",
       "      <th>2</th>\n",
       "      <td>0.093484</td>\n",
       "      <td>0.249822</td>\n",
       "      <td>0.476862</td>\n",
       "      <td>0.892493</td>\n",
       "      <td>0.904636</td>\n",
       "    </tr>\n",
       "    <tr>\n",
       "      <th>3</th>\n",
       "      <td>0.539660</td>\n",
       "      <td>0.568683</td>\n",
       "      <td>0.429349</td>\n",
       "      <td>0.684718</td>\n",
       "      <td>0.347285</td>\n",
       "    </tr>\n",
       "    <tr>\n",
       "      <th>4</th>\n",
       "      <td>0.255241</td>\n",
       "      <td>0.216014</td>\n",
       "      <td>0.404355</td>\n",
       "      <td>0.952547</td>\n",
       "      <td>0.710464</td>\n",
       "    </tr>\n",
       "    <tr>\n",
       "      <th>...</th>\n",
       "      <td>...</td>\n",
       "      <td>...</td>\n",
       "      <td>...</td>\n",
       "      <td>...</td>\n",
       "      <td>...</td>\n",
       "    </tr>\n",
       "    <tr>\n",
       "      <th>9563</th>\n",
       "      <td>0.420397</td>\n",
       "      <td>0.432918</td>\n",
       "      <td>0.522643</td>\n",
       "      <td>0.877212</td>\n",
       "      <td>0.526755</td>\n",
       "    </tr>\n",
       "    <tr>\n",
       "      <th>9564</th>\n",
       "      <td>0.322380</td>\n",
       "      <td>0.245907</td>\n",
       "      <td>0.761693</td>\n",
       "      <td>0.552547</td>\n",
       "      <td>0.653775</td>\n",
       "    </tr>\n",
       "    <tr>\n",
       "      <th>9565</th>\n",
       "      <td>0.835977</td>\n",
       "      <td>0.871352</td>\n",
       "      <td>0.495669</td>\n",
       "      <td>0.146381</td>\n",
       "      <td>0.123311</td>\n",
       "    </tr>\n",
       "    <tr>\n",
       "      <th>9566</th>\n",
       "      <td>0.642210</td>\n",
       "      <td>0.784520</td>\n",
       "      <td>0.518931</td>\n",
       "      <td>0.493700</td>\n",
       "      <td>0.205033</td>\n",
       "    </tr>\n",
       "    <tr>\n",
       "      <th>9567</th>\n",
       "      <td>0.560623</td>\n",
       "      <td>0.661210</td>\n",
       "      <td>0.602326</td>\n",
       "      <td>0.567158</td>\n",
       "      <td>0.437351</td>\n",
       "    </tr>\n",
       "  </tbody>\n",
       "</table>\n",
       "<p>9568 rows × 5 columns</p>\n",
       "</div>"
      ],
      "text/plain": [
       "            AT         V        AP        RH        PE\n",
       "0     0.372521  0.291815  0.771591  0.638204  0.569536\n",
       "1     0.662040  0.669039  0.671863  0.449330  0.319338\n",
       "2     0.093484  0.249822  0.476862  0.892493  0.904636\n",
       "3     0.539660  0.568683  0.429349  0.684718  0.347285\n",
       "4     0.255241  0.216014  0.404355  0.952547  0.710464\n",
       "...        ...       ...       ...       ...       ...\n",
       "9563  0.420397  0.432918  0.522643  0.877212  0.526755\n",
       "9564  0.322380  0.245907  0.761693  0.552547  0.653775\n",
       "9565  0.835977  0.871352  0.495669  0.146381  0.123311\n",
       "9566  0.642210  0.784520  0.518931  0.493700  0.205033\n",
       "9567  0.560623  0.661210  0.602326  0.567158  0.437351\n",
       "\n",
       "[9568 rows x 5 columns]"
      ]
     },
     "execution_count": 19,
     "metadata": {},
     "output_type": "execute_result"
    }
   ],
   "source": [
    "# Storing old columns names\n",
    "df_col_names = list(df.columns)\n",
    "\n",
    "# Scaling data by min and max in the range of 0 to 1\n",
    "scaler = MinMaxScaler(feature_range = [0, 1])\n",
    "tmp = scaler.fit_transform(df)\n",
    "\n",
    "# Converting scaled values back into dataframe\n",
    "df = pd.DataFrame(tmp, columns=df_col_names)\n",
    "\n",
    "df"
   ]
  },
  {
   "cell_type": "markdown",
   "metadata": {},
   "source": [
    "## Breaking Data in X and y"
   ]
  },
  {
   "cell_type": "code",
   "execution_count": 20,
   "metadata": {},
   "outputs": [],
   "source": [
    "X = df.iloc[:,:-1]"
   ]
  },
  {
   "cell_type": "code",
   "execution_count": 21,
   "metadata": {},
   "outputs": [],
   "source": [
    "y = df.iloc[:,-1]"
   ]
  },
  {
   "cell_type": "markdown",
   "metadata": {},
   "source": [
    "# Generating Models"
   ]
  },
  {
   "cell_type": "code",
   "execution_count": null,
   "metadata": {},
   "outputs": [],
   "source": [
    "# Imports to build layered neural nets\n",
    "from keras.models import Sequential\n",
    "from keras.layers import Dense"
   ]
  },
  {
   "cell_type": "code",
   "execution_count": null,
   "metadata": {},
   "outputs": [],
   "source": [
    "# Defining number of folds in cross validation (kfolds method)\n",
    "cv_folds = 5\n",
    "\n",
    "# Defining number of epochs\n",
    "epo = 10\n",
    "\n",
    "# Defining batch size\n",
    "bs = 1000"
   ]
  },
  {
   "cell_type": "markdown",
   "metadata": {},
   "source": [
    "## 2 Layer Neural Networks"
   ]
  },
  {
   "cell_type": "markdown",
   "metadata": {},
   "source": [
    "### Sigmoid Activation Function"
   ]
  },
  {
   "cell_type": "code",
   "execution_count": null,
   "metadata": {},
   "outputs": [],
   "source": [
    "# nur_list is a list of number of neurons for each layer.\n",
    "# In this case the first 2 values in the list are neurons of first 2 layers.\n",
    "# The last value corresponds to the output layer\n",
    "nur_list = [10, 5, 1]\n",
    "\n",
    "# a_func is the activation function of choice\n",
    "a_func = 'sigmoid'\n",
    "\n",
    "# opt is the optimazation function of choice\n",
    "opt = 'adam'\n",
    "\n",
    "# loss_ is the loss funciton of choice\n",
    "loss_ = 'mean_squared_error'"
   ]
  },
  {
   "cell_type": "code",
   "execution_count": null,
   "metadata": {},
   "outputs": [],
   "source": [
    "nnCrossValidation(X, y, cv_folds, epo, bs, nur_list, a_func, opt, loss_)"
   ]
  },
  {
   "cell_type": "code",
   "execution_count": null,
   "metadata": {},
   "outputs": [],
   "source": [
    "nnForwardSelection(X, y, cv_folds, epo, bs, nur_list, a_func, opt, loss_)"
   ]
  },
  {
   "cell_type": "markdown",
   "metadata": {},
   "source": [
    "### Tanh Activation Function"
   ]
  },
  {
   "cell_type": "code",
   "execution_count": null,
   "metadata": {},
   "outputs": [],
   "source": [
    "# nur_list is a list of number of neurons for each layer.\n",
    "# In this case the first 2 values in the list are neurons of first 2 layers.\n",
    "# The last value corresponds to the output layer\n",
    "nur_list = [10, 5, 1]\n",
    "\n",
    "# a_func is the activation function of choice\n",
    "a_func = 'tanh'\n",
    "\n",
    "# opt is the optimazation function of choice\n",
    "opt = 'adam'\n",
    "\n",
    "# loss_ is the loss funciton of choice\n",
    "loss_ = 'mean_squared_error'"
   ]
  },
  {
   "cell_type": "code",
   "execution_count": null,
   "metadata": {},
   "outputs": [],
   "source": [
    "nnCrossValidation(X, y, cv_folds, epo, bs, nur_list, a_func, opt, loss_)"
   ]
  },
  {
   "cell_type": "code",
   "execution_count": null,
   "metadata": {},
   "outputs": [],
   "source": [
    "nnForwardSelection(X, y, cv_folds, epo, bs, nur_list, a_func, opt, loss_)"
   ]
  },
  {
   "cell_type": "markdown",
   "metadata": {},
   "source": [
    "### ReLU Activation Function"
   ]
  },
  {
   "cell_type": "code",
   "execution_count": null,
   "metadata": {},
   "outputs": [],
   "source": [
    "# nur_list is a list of number of neurons for each layer.\n",
    "# In this case the first 2 values in the list are neurons of first 2 layers.\n",
    "# The last value corresponds to the output layer\n",
    "nur_list = [10, 5, 1]\n",
    "\n",
    "# a_func is the activation function of choice\n",
    "a_func = 'relu'\n",
    "\n",
    "# opt is the optimazation function of choice\n",
    "opt = 'adam'\n",
    "\n",
    "# loss_ is the loss funciton of choice\n",
    "loss_ = 'mean_squared_error'"
   ]
  },
  {
   "cell_type": "code",
   "execution_count": null,
   "metadata": {},
   "outputs": [],
   "source": [
    "nnCrossValidation(X, y, cv_folds, epo, bs, nur_list, a_func, opt, loss_)"
   ]
  },
  {
   "cell_type": "code",
   "execution_count": null,
   "metadata": {},
   "outputs": [],
   "source": [
    "nnForwardSelection(X, y, cv_folds, epo, bs, nur_list, a_func, opt, loss_)"
   ]
  },
  {
   "cell_type": "markdown",
   "metadata": {},
   "source": [
    "## 3 Layer Neural Networks"
   ]
  },
  {
   "cell_type": "markdown",
   "metadata": {},
   "source": [
    "### Sigmoid Activation Function"
   ]
  },
  {
   "cell_type": "code",
   "execution_count": null,
   "metadata": {},
   "outputs": [],
   "source": [
    "# nur_list is a list of number of neurons for each layer.\n",
    "# In this case the first 3 values in the list are neurons of first 3 layers.\n",
    "# The last value corresponds to the output layer\n",
    "nur_list = [25, 10, 5, 1]\n",
    "\n",
    "# a_func is the activation function of choice\n",
    "a_func = 'sigmoid'\n",
    "\n",
    "# opt is the optimazation function of choice\n",
    "opt = 'adam'\n",
    "\n",
    "# loss_ is the loss funciton of choice\n",
    "loss_ = 'mean_squared_error'"
   ]
  },
  {
   "cell_type": "code",
   "execution_count": null,
   "metadata": {},
   "outputs": [],
   "source": [
    "nnCrossValidation(X, y, cv_folds, epo, bs, nur_list, a_func, opt, loss_)"
   ]
  },
  {
   "cell_type": "code",
   "execution_count": null,
   "metadata": {},
   "outputs": [],
   "source": [
    "nnForwardSelection(X, y, cv_folds, epo, bs, nur_list, a_func, opt, loss_)"
   ]
  },
  {
   "cell_type": "markdown",
   "metadata": {},
   "source": [
    "### Tanh Activation Function"
   ]
  },
  {
   "cell_type": "code",
   "execution_count": null,
   "metadata": {},
   "outputs": [],
   "source": [
    "# nur_list is a list of number of neurons for each layer.\n",
    "# In this case the first 3 values in the list are neurons of first 3 layers.\n",
    "# The last value corresponds to the output layer\n",
    "nur_list = [25, 10, 5, 1]\n",
    "\n",
    "# a_func is the activation function of choice\n",
    "a_func = 'tanh'\n",
    "\n",
    "# opt is the optimazation function of choice\n",
    "opt = 'adam'\n",
    "\n",
    "# loss_ is the loss funciton of choice\n",
    "loss_ = 'mean_squared_error'"
   ]
  },
  {
   "cell_type": "code",
   "execution_count": null,
   "metadata": {},
   "outputs": [],
   "source": [
    "nnCrossValidation(X, y, cv_folds, epo, bs, nur_list, a_func, opt, loss_)"
   ]
  },
  {
   "cell_type": "code",
   "execution_count": null,
   "metadata": {},
   "outputs": [],
   "source": [
    "nnForwardSelection(X, y, cv_folds, epo, bs, nur_list, a_func, opt, loss_)"
   ]
  },
  {
   "cell_type": "markdown",
   "metadata": {},
   "source": [
    "### ReLU Activation Function"
   ]
  },
  {
   "cell_type": "code",
   "execution_count": null,
   "metadata": {},
   "outputs": [],
   "source": [
    "# nur_list is a list of number of neurons for each layer.\n",
    "# In this case the first 3 values in the list are neurons of first 3 layers.\n",
    "# The last value corresponds to the output layer\n",
    "nur_list = [25, 10, 5, 1]\n",
    "\n",
    "# a_func is the activation function of choice\n",
    "a_func = 'relu'\n",
    "\n",
    "# opt is the optimazation function of choice\n",
    "opt = 'adam'\n",
    "\n",
    "# loss_ is the loss funciton of choice\n",
    "loss_ = 'mean_squared_error'"
   ]
  },
  {
   "cell_type": "code",
   "execution_count": null,
   "metadata": {},
   "outputs": [],
   "source": [
    "nnCrossValidation(X, y, cv_folds, epo, bs, nur_list, a_func, opt, loss_)"
   ]
  },
  {
   "cell_type": "code",
   "execution_count": null,
   "metadata": {},
   "outputs": [],
   "source": [
    "nnForwardSelection(X, y, cv_folds, epo, bs, nur_list, a_func, opt, loss_)"
   ]
  },
  {
   "cell_type": "markdown",
   "metadata": {},
   "source": [
    "## 5 Layer Neural Networks"
   ]
  },
  {
   "cell_type": "markdown",
   "metadata": {},
   "source": [
    "### Sigmoid Activation Function"
   ]
  },
  {
   "cell_type": "code",
   "execution_count": null,
   "metadata": {},
   "outputs": [],
   "source": [
    "# nur_list is a list of number of neurons for each layer.\n",
    "# In this case the first 5 values in the list are neurons of first 5 layers.\n",
    "# The last value corresponds to the output layer\n",
    "nur_list = [500, 100, 25, 10, 5, 1]\n",
    "\n",
    "# a_func is the activation function of choice\n",
    "a_func = 'sigmoid'\n",
    "\n",
    "# opt is the optimazation function of choice\n",
    "opt = 'adam'\n",
    "\n",
    "# loss_ is the loss funciton of choice\n",
    "loss_ = 'mean_squared_error'"
   ]
  },
  {
   "cell_type": "code",
   "execution_count": null,
   "metadata": {},
   "outputs": [],
   "source": [
    "nnCrossValidation(X, y, cv_folds, epo, bs, nur_list, a_func, opt, loss_)"
   ]
  },
  {
   "cell_type": "code",
   "execution_count": null,
   "metadata": {},
   "outputs": [],
   "source": [
    "nnForwardSelection(X, y, cv_folds, epo, bs, nur_list, a_func, opt, loss_)"
   ]
  },
  {
   "cell_type": "markdown",
   "metadata": {},
   "source": [
    "### Tanh Activation Function"
   ]
  },
  {
   "cell_type": "code",
   "execution_count": null,
   "metadata": {},
   "outputs": [],
   "source": [
    "# nur_list is a list of number of neurons for each layer.\n",
    "# In this case the first 5 values in the list are neurons of first 5 layers.\n",
    "# The last value corresponds to the output layer\n",
    "nur_list = [500, 100, 25, 10, 5, 1]\n",
    "\n",
    "# a_func is the activation function of choice\n",
    "a_func = 'tanh'\n",
    "\n",
    "# opt is the optimazation function of choice\n",
    "opt = 'adam'\n",
    "\n",
    "# loss_ is the loss funciton of choice\n",
    "loss_ = 'mean_squared_error'"
   ]
  },
  {
   "cell_type": "code",
   "execution_count": null,
   "metadata": {},
   "outputs": [],
   "source": [
    "nnCrossValidation(X, y, cv_folds, epo, bs, nur_list, a_func, opt, loss_)"
   ]
  },
  {
   "cell_type": "code",
   "execution_count": null,
   "metadata": {},
   "outputs": [],
   "source": [
    "nnForwardSelection(X, y, cv_folds, epo, bs, nur_list, a_func, opt, loss_)"
   ]
  },
  {
   "cell_type": "markdown",
   "metadata": {},
   "source": [
    "### ReLU Activation Function"
   ]
  },
  {
   "cell_type": "code",
   "execution_count": null,
   "metadata": {},
   "outputs": [],
   "source": [
    "# nur_list is a list of number of neurons for each layer.\n",
    "# In this case the first 5 values in the list are neurons of first 5 layers.\n",
    "# The last value corresponds to the output layer\n",
    "nur_list = [500, 100, 25, 10, 5, 1]\n",
    "\n",
    "# a_func is the activation function of choice\n",
    "a_func = 'relu'\n",
    "\n",
    "# opt is the optimazation function of choice\n",
    "opt = 'adam'\n",
    "\n",
    "# loss_ is the loss funciton of choice\n",
    "loss_ = 'mean_squared_error'"
   ]
  },
  {
   "cell_type": "code",
   "execution_count": null,
   "metadata": {},
   "outputs": [],
   "source": [
    "nnCrossValidation(X, y, cv_folds, epo, bs, nur_list, a_func, opt, loss_)"
   ]
  },
  {
   "cell_type": "code",
   "execution_count": null,
   "metadata": {},
   "outputs": [],
   "source": [
    "nnForwardSelection(X, y, cv_folds, epo, bs, nur_list, a_func, opt, loss_)"
   ]
  }
 ],
 "metadata": {
  "interpreter": {
   "hash": "1f48fb14bcc06c66bdca3865fca6a442793c40cec3ae3e13031ed2a63e7b659e"
  },
  "kernelspec": {
   "display_name": "venv",
   "language": "python",
   "name": "venv"
  },
  "language_info": {
   "codemirror_mode": {
    "name": "ipython",
    "version": 3
   },
   "file_extension": ".py",
   "mimetype": "text/x-python",
   "name": "python",
   "nbconvert_exporter": "python",
   "pygments_lexer": "ipython3",
   "version": "3.9.7"
  }
 },
 "nbformat": 4,
 "nbformat_minor": 2
}
